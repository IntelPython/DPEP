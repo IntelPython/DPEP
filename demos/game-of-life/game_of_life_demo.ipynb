{
 "cells": [
  {
   "cell_type": "code",
   "execution_count": 2,
   "id": "b9309c4f-415d-4e7f-a169-6f9c7e28e018",
   "metadata": {},
   "outputs": [],
   "source": [
    "import dpctl"
   ]
  },
  {
   "cell_type": "code",
   "execution_count": 3,
   "id": "0a55e346-69e7-4f8e-b395-8d632fcaf558",
   "metadata": {},
   "outputs": [
    {
     "name": "stdout",
     "output_type": "stream",
     "text": [
      "Intel(R) OpenCL HD Graphics OpenCL 3.0 \n",
      "Intel(R) Level-Zero 1.3\n"
     ]
    }
   ],
   "source": [
    "dpctl.lsplatform()"
   ]
  },
  {
   "cell_type": "code",
   "execution_count": 8,
   "id": "db0abcf7-2308-4869-9bc7-0f70566785ab",
   "metadata": {},
   "outputs": [
    {
     "name": "stderr",
     "output_type": "stream",
     "text": [
      "usage: ipykernel_launcher.py [-h] [--variant {numpy,numba}] [--threading-layer {omp,tbb,workqueue}] [--parallel | --no-parallel] [--frames-count FRAMES_COUNT] [--gui | --no-gui] [--stats | --no-stats] [--task-size TASK_SIZE]\n",
      "ipykernel_launcher.py: error: unrecognized arguments: -f C:\\Users\\smaidano\\AppData\\Roaming\\jupyter\\runtime\\kernel-6523de26-e036-47b6-9619-07b0e0d470b1.json\n"
     ]
    },
    {
     "ename": "SystemExit",
     "evalue": "2",
     "output_type": "error",
     "traceback": [
      "An exception has occurred, use %tb to see the full traceback.\n",
      "\u001b[1;31mSystemExit\u001b[0m\u001b[1;31m:\u001b[0m 2\n"
     ]
    }
   ],
   "source": [
    "import game_of_life_demo"
   ]
  },
  {
   "cell_type": "code",
   "execution_count": null,
   "id": "81eb3455-dae4-42c1-a1fa-66af205e3021",
   "metadata": {},
   "outputs": [],
   "source": []
  },
  {
   "cell_type": "code",
   "execution_count": null,
   "id": "de662eb4-896b-447e-9fa1-9c7cc39d7178",
   "metadata": {},
   "outputs": [],
   "source": []
  }
 ],
 "metadata": {
  "kernelspec": {
   "display_name": "Python [conda env:ndpex-examples] *",
   "language": "python",
   "name": "conda-env-ndpex-examples-py"
  },
  "language_info": {
   "codemirror_mode": {
    "name": "ipython",
    "version": 3
   },
   "file_extension": ".py",
   "mimetype": "text/x-python",
   "name": "python",
   "nbconvert_exporter": "python",
   "pygments_lexer": "ipython3",
   "version": "3.9.15"
  }
 },
 "nbformat": 4,
 "nbformat_minor": 5
}
