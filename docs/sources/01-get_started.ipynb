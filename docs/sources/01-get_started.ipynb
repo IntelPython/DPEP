{
 "cells": [
  {
   "cell_type": "markdown",
   "id": "a002ea61",
   "metadata": {},
   "source": [
    "# Getting Started"
   ]
  },
  {
   "attachments": {},
   "cell_type": "markdown",
   "id": "905c742a",
   "metadata": {},
   "source": [
    "## How to Change a CPU Script to Run on the GPU with a Few Lines of Code"
   ]
  },
  {
   "attachments": {},
   "cell_type": "markdown",
   "id": "41bf2099",
   "metadata": {},
   "source": [
    "The following example shows how to easily switch calculations from CPU to GPU device with a few lines of code.\n",
    "\n",
    "Take a look at the original example. Two matrices are allocated on a CPU device using the NumPy* array function. All further calculations are done on the allocated CPU device as well."
   ]
  },
  {
   "cell_type": "code",
   "execution_count": 3,
   "id": "d9e8711d",
   "metadata": {},
   "outputs": [
    {
     "name": "stdout",
     "output_type": "stream",
     "text": [
      "res =  [[2 2]\n",
      " [2 2]]\n"
     ]
    }
   ],
   "source": [
    "# Original CPU script\n",
    "\n",
    "# Call numpy library\n",
    "import numpy as np\n",
    "\n",
    "# Data alocated on the CPU device\n",
    "x = np.array([[1, 1], [1, 1]])\n",
    "y = np.array([[1, 1], [1, 1]])\n",
    "\n",
    "# Compute performed on the CPU device, where data is allocated\n",
    "res = np.matmul(x, y)\n",
    "\n",
    "print (\"res = \", res)"
   ]
  },
  {
   "attachments": {},
   "cell_type": "markdown",
   "id": "402c3d61",
   "metadata": {},
   "source": [
    "Now try to modify the code so that all the calculations happen on the GPU device. \n",
    "To do this, go to the dpnp library and look at the result."
   ]
  },
  {
   "attachments": {},
   "cell_type": "markdown",
   "id": "1dd2bdc4",
   "metadata": {},
   "source": [
    "Change the line:"
   ]
  },
  {
   "cell_type": "code",
   "execution_count": null,
   "id": "f0248030",
   "metadata": {},
   "outputs": [],
   "source": [
    "# Call numpy library\n",
    "import numpy as np"
   ]
  },
  {
   "attachments": {},
   "cell_type": "markdown",
   "id": "7fe8e401",
   "metadata": {},
   "source": [
    "To the line:"
   ]
  },
  {
   "cell_type": "code",
   "execution_count": null,
   "id": "4867406e",
   "metadata": {},
   "outputs": [],
   "source": [
    "# Call dpnp library\n",
    "import dpnp as np"
   ]
  },
  {
   "cell_type": "markdown",
   "id": "9bd6d101",
   "metadata": {},
   "source": [
    "The result is:"
   ]
  },
  {
   "cell_type": "code",
   "execution_count": 1,
   "id": "c10b7d83",
   "metadata": {},
   "outputs": [
    {
     "name": "stdout",
     "output_type": "stream",
     "text": [
      "Array x is located on the device: Device(level_zero:gpu:0)\n",
      "Array y is located on the device: Device(level_zero:gpu:0)\n",
      "res is located on the device: Device(level_zero:gpu:0)\n",
      "res =  [[2 2]\n",
      " [2 2]]\n"
     ]
    }
   ],
   "source": [
    "# Modified XPU script\n",
    "\n",
    "# Drop-in replacement via single line change\n",
    "import dpnp as np\n",
    "\n",
    "# Data alocated on default SYCL device\n",
    "x = np.array([[1, 1], [1, 1]])\n",
    "y = np.array([[1, 1], [1, 1]])\n",
    "\n",
    "# Compute performed on the device, where data is allocated\n",
    "res = np.matmul(x, y)\n",
    "\n",
    "\n",
    "print (\"Array x is located on the device:\", x.device)\n",
    "print (\"Array y is located on the device:\", y.device)\n",
    "print (\"res is located on the device:\", res.device)\n",
    "print (\"res = \", res)"
   ]
  },
  {
   "attachments": {},
   "cell_type": "markdown",
   "id": "d6a58f17",
   "metadata": {},
   "source": [
    "As you see, changing only one line of code helps to perform all calculations on the GPU device.\n",
    "In this example, ``np.array()`` creates an array on the default SYCL* device that is \"gpu\" on systems with integrated or discrete GPU. It is a host on systems that do not have GPU. The queue associated with this array is now carried with x and y. ``np.matmul(x, y)`` does matrix product of two arrays x and y, and respective pre-compiled kernel implementing ``np.matmul()`` is submitted to that queue. The result is allocated on the device array associated with that queue."
   ]
  },
  {
   "attachments": {},
   "cell_type": "markdown",
   "id": "af01b185",
   "metadata": {},
   "source": [
    "## Manage Device and Host Data with the Data Parallel Extension for NumPy* Library"
   ]
  },
  {
   "attachments": {},
   "cell_type": "markdown",
   "id": "c7ca852f",
   "metadata": {},
   "source": [
    "For example, draw the function ``f(x) = sin(x)``.\n",
    "\n",
    "Prerequisites: ``matplotlib`` library."
   ]
  },
  {
   "attachments": {},
   "cell_type": "markdown",
   "id": "2f4b707d",
   "metadata": {},
   "source": [
    "Let's see how we can control and specify the same device on which we want to perform our calculations and which USM memory type to use.\n",
    "By default, the Data Parallel Extension for NumPy* library creates the default SYCL* device on a GPU on systems with integrated or discreted GPU. It is a host on systems that do not have GPU. In this case, the device is ``\"Device(level_zero:gpu:0)``.\n",
    "The Unified Shared Memory (USM) is allocated by default on the device you created the data. "
   ]
  },
  {
   "cell_type": "code",
   "execution_count": null,
   "id": "f2cec84d",
   "metadata": {},
   "outputs": [],
   "source": [
    "x = np.linspace(-10.0, np.pi, 100, dtype=np.float32)"
   ]
  },
  {
   "attachments": {},
   "cell_type": "markdown",
   "id": "d1fcfbae",
   "metadata": {},
   "source": [
    "However, there are some cases when you need to stream a read-only data from the host to the device once or locate the data in both places: the host and the device (copies are synchronized by underlying software).\n",
    "\n",
    "In this case, share the copy of data between host and device to draw the data using the ``matplotlib`` library more efficiently.\n",
    "To do this, use the ``usm_type`` parameter."
   ]
  },
  {
   "cell_type": "code",
   "execution_count": null,
   "id": "fd6ab522",
   "metadata": {},
   "outputs": [],
   "source": [
    "x = np.linspace(-10.0, np.pi, 100, dtype=np.float32, usm_type='shared')"
   ]
  },
  {
   "attachments": {},
   "cell_type": "markdown",
   "id": "49d62c33",
   "metadata": {},
   "source": [
    "The data are synchronized between the host and the device."
   ]
  },
  {
   "cell_type": "code",
   "execution_count": 5,
   "id": "02e3b05d",
   "metadata": {},
   "outputs": [
    {
     "name": "stdout",
     "output_type": "stream",
     "text": [
      "'x' allocated on the device: Device(level_zero:gpu:0)\n",
      "'y' allocated on the device: Device(level_zero:gpu:0)\n"
     ]
    },
    {
     "data": {
      "image/png": "[encoded data removed]",
      "text/plain": [
       "<Figure size 640x480 with 1 Axes>"
      ]
     },
     "metadata": {},
     "output_type": "display_data"
    }
   ],
   "source": [
    "import matplotlib\n",
    "import matplotlib.pyplot as plt\n",
    "import dpnp as np\n",
    "\n",
    "# create an area for a graphic\n",
    "x = np.linspace(-10.0, np.pi, 100, dtype=np.float32, usm_type='shared')\n",
    "y = np.sin(x)\n",
    "# print the information which SYCL* device is using\n",
    "print(\"'x' allocated on the device:\", x.device)\n",
    "print(\"'y' allocated on the device:\", y.device)\n",
    "\n",
    "\n",
    "# draw the graphic\n",
    "plt.title('sin(x)')\n",
    "plt.plot(x, y)\n",
    "plt.grid(True)"
   ]
  },
  {
   "attachments": {},
   "cell_type": "markdown",
   "id": "94cb3b9b",
   "metadata": {},
   "source": [
    "## Manage Devices with the Data Parallel Control Library"
   ]
  },
  {
   "attachments": {},
   "cell_type": "markdown",
   "id": "9fb4b1b5",
   "metadata": {},
   "source": [
    "Below you can find a list of simple examples that explain how to figure out how many devices you have on your system and how to work with them. \n",
    "\n",
    "\n",
    "To display a list of all available SYCL devices, run:"
   ]
  },
  {
   "cell_type": "code",
   "execution_count": 5,
   "id": "b890ae71",
   "metadata": {},
   "outputs": [
    {
     "name": "stdout",
     "output_type": "stream",
     "text": [
      "Intel(R) OpenCL HD Graphics OpenCL 3.0 \n",
      "Intel(R) FPGA Emulation Platform for OpenCL(TM) OpenCL 1.2 Intel(R) FPGA SDK for OpenCL(TM), Version 20.3\n",
      "Intel(R) OpenCL OpenCL 3.0 WINDOWS\n",
      "Intel(R) Level-Zero 1.3\n"
     ]
    }
   ],
   "source": [
    "# See the list of available SYCL platforms and extra metadata about each platform.\n",
    "import dpctl\n",
    "\n",
    "dpctl.lsplatform()  # Print platform information"
   ]
  },
  {
   "attachments": {},
   "cell_type": "markdown",
   "id": "db5e8db4",
   "metadata": {},
   "source": [
    "Let's take a look at the output. \n",
    "On the platform used for this example, you can see: the OpenCL GPU driver, the Intel(R) FPGA Emulation Device, the Intel(R) OpenCL CPU driver, and the Intel(R) Level Zero GPU driver. \n",
    "\n",
    "If you change the verbocity parameter, you can get more information about the available devices:"
   ]
  },
  {
   "cell_type": "code",
   "execution_count": 6,
   "id": "ffcf0cfb",
   "metadata": {
    "scrolled": true
   },
   "outputs": [
    {
     "name": "stdout",
     "output_type": "stream",
     "text": [
      "Platform  0 ::\n",
      "    Name        Intel(R) OpenCL HD Graphics\n",
      "    Version     OpenCL 3.0 \n",
      "    Vendor      Intel(R) Corporation\n",
      "    Backend     opencl\n",
      "    Num Devices 1\n",
      "      # 0\n",
      "        Name                Intel(R) Iris(R) Xe Graphics\n",
      "        Version             31.0.101.3430\n",
      "        Filter string       opencl:gpu:0\n",
      "Platform  1 ::\n",
      "    Name        Intel(R) FPGA Emulation Platform for OpenCL(TM)\n",
      "    Version     OpenCL 1.2 Intel(R) FPGA SDK for OpenCL(TM), Version 20.3\n",
      "    Vendor      Intel(R) Corporation\n",
      "    Backend     opencl\n",
      "    Num Devices 1\n",
      "      # 0\n",
      "        Name                Intel(R) FPGA Emulation Device\n",
      "        Version             2022.15.11.0.18_160000\n",
      "        Filter string       opencl:accelerator:0\n",
      "Platform  2 ::\n",
      "    Name        Intel(R) OpenCL\n",
      "    Version     OpenCL 3.0 WINDOWS\n",
      "    Vendor      Intel(R) Corporation\n",
      "    Backend     opencl\n",
      "    Num Devices 1\n",
      "      # 0\n",
      "        Name                11th Gen Intel(R) Core(TM) i7-1185G7 @ 3.00GHz\n",
      "        Version             2022.15.11.0.18_160000\n",
      "        Filter string       opencl:cpu:0\n",
      "Platform  3 ::\n",
      "    Name        Intel(R) Level-Zero\n",
      "    Version     1.3\n",
      "    Vendor      Intel(R) Corporation\n",
      "    Backend     ext_oneapi_level_zero\n",
      "    Num Devices 1\n",
      "      # 0\n",
      "        Name                Intel(R) Iris(R) Xe Graphics\n",
      "        Version             1.3.23904\n",
      "        Filter string       level_zero:gpu:0\n"
     ]
    }
   ],
   "source": [
    "# See the list of available SYCL platforms and extra metadata about each platform.\n",
    "import dpctl\n",
    "\n",
    "dpctl.lsplatform(2)  # Print platform information with verbocity level 2 (highest level)"
   ]
  },
  {
   "attachments": {},
   "cell_type": "markdown",
   "id": "f63525d3",
   "metadata": {},
   "source": [
    "Knowing the available SYCL platforms, you can specify what type of device you want to work with:"
   ]
  },
  {
   "cell_type": "code",
   "execution_count": 3,
   "id": "84ff47e9",
   "metadata": {},
   "outputs": [
    {
     "name": "stdout",
     "output_type": "stream",
     "text": [
      "[<dpctl.SyclDevice [backend_type.opencl, device_type.gpu,  Intel(R) Iris(R) Xe Graphics] at 0x1a1eddd72f0>, <dpctl.SyclDevice [backend_type.level_zero, device_type.gpu,  Intel(R) Iris(R) Xe Graphics] at 0x1a1eddd70f0>]\n"
     ]
    }
   ],
   "source": [
    "# See the list of available gpu devices and their extra metadata.\n",
    "import dpctl\n",
    "\n",
    "if dpctl.has_gpu_devices():\n",
    "    print (dpctl.get_devices(device_type='gpu'))\n",
    "else:\n",
    "    print(\"GPU device is not available\")"
   ]
  },
  {
   "cell_type": "code",
   "execution_count": 7,
   "id": "a93e7cf8",
   "metadata": {},
   "outputs": [
    {
     "name": "stdout",
     "output_type": "stream",
     "text": [
      "[<dpctl.SyclDevice [backend_type.opencl, device_type.cpu,  11th Gen Intel(R) Core(TM) i7-1185G7 @ 3.00GHz] at 0x1779083bcf0>]\n"
     ]
    }
   ],
   "source": [
    "# See the list of available gpu devices and their extra metadata.\n",
    "import dpctl\n",
    "\n",
    "if dpctl.has_cpu_devices():\n",
    "    print (dpctl.get_devices(device_type='cpu'))\n",
    "else:\n",
    "    print(\"CPU device is not available\")"
   ]
  },
  {
   "attachments": {},
   "cell_type": "markdown",
   "id": "efcc3f45",
   "metadata": {},
   "source": [
    "You can also make a specific device selection on your system using the default selector:"
   ]
  },
  {
   "cell_type": "code",
   "execution_count": 9,
   "id": "1c068447",
   "metadata": {},
   "outputs": [
    {
     "name": "stdout",
     "output_type": "stream",
     "text": [
      "    Name            Intel(R) Iris(R) Xe Graphics\n",
      "    Driver version  1.3.23904\n",
      "    Vendor          Intel(R) Corporation\n",
      "    Filter string   level_zero:gpu:0\n",
      "\n"
     ]
    }
   ],
   "source": [
    "import dpctl\n",
    "\n",
    "try:\n",
    "    # Create a SyclDevice of type GPU based on whatever is returned\n",
    "    # by the SYCL `gpu_selector` device selector class.\n",
    "    gpu = dpctl.select_gpu_device()\n",
    "    gpu.print_device_info() # print GPU device information\n",
    "\n",
    "except:\n",
    "    print (\"GPU device is not available\")"
   ]
  },
  {
   "attachments": {},
   "cell_type": "markdown",
   "id": "c378b79d",
   "metadata": {},
   "source": [
    "Or, using the infromation in the filter string of the device, create an explicit SyclDevice:"
   ]
  },
  {
   "cell_type": "code",
   "execution_count": 7,
   "id": "ad83abb5",
   "metadata": {},
   "outputs": [
    {
     "name": "stdout",
     "output_type": "stream",
     "text": [
      "    Name            Intel(R) Iris(R) Xe Graphics\n",
      "    Driver version  1.3.23904\n",
      "    Vendor          Intel(R) Corporation\n",
      "    Profile         FULL_PROFILE\n",
      "    Filter string   level_zero:gpu:0\n",
      "\n"
     ]
    }
   ],
   "source": [
    "import dpctl\n",
    "\n",
    "# Create a SyclDevice with an explicit filter string,\n",
    "# in this case the first level_zero gpu device.\n",
    "try:\n",
    "    level_zero_gpu = dpctl.SyclDevice(\"level_zero:gpu:0\")\n",
    "    level_zero_gpu.print_device_info()\n",
    "except:\n",
    "    print(\"The first level_zero GPU device is not available\")    "
   ]
  },
  {
   "attachments": {},
   "cell_type": "markdown",
   "id": "eadefe0b",
   "metadata": {},
   "source": [
    "Let's check if your GPU device supports double precision. \n",
    "\n",
    "To do this, you need to identify the GPU device and check the ``has_aspect_fp64`` parameter:"
   ]
  },
  {
   "cell_type": "code",
   "execution_count": 16,
   "id": "a94756d7",
   "metadata": {},
   "outputs": [
    {
     "name": "stdout",
     "output_type": "stream",
     "text": [
      "    Name            Intel(R) Iris(R) Xe Graphics\n",
      "    Driver version  1.3.23904\n",
      "    Vendor          Intel(R) Corporation\n",
      "    Filter string   level_zero:gpu:0\n",
      "\n",
      "Double precision support is False\n"
     ]
    }
   ],
   "source": [
    "import dpctl\n",
    "# Select GPU device and check double precision support\n",
    "try:\n",
    "    gpu = dpctl.select_gpu_device()\n",
    "    gpu.print_device_info()\n",
    "    print(\"Double precision support is\", gpu.has_aspect_fp64)\n",
    "except:\n",
    "    print(\"The GPU device is not available\")   "
   ]
  },
  {
   "attachments": {},
   "cell_type": "markdown",
   "id": "5462fd3d",
   "metadata": {},
   "source": [
    "As you can see, the tested GPU device has no support for the double precision."
   ]
  }
 ],
 "metadata": {
  "kernelspec": {
   "display_name": "Python 3 (ipykernel)",
   "language": "python",
   "name": "python3"
  },
  "language_info": {
   "codemirror_mode": {
    "name": "ipython",
    "version": 3
   },
   "file_extension": ".py",
   "mimetype": "text/x-python",
   "name": "python",
   "nbconvert_exporter": "python",
   "pygments_lexer": "ipython3",
   "version": "3.8.15"
  }
 },
 "nbformat": 4,
 "nbformat_minor": 5
}
